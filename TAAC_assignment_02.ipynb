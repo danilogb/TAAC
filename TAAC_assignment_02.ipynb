{
  "nbformat": 4,
  "nbformat_minor": 0,
  "metadata": {
    "colab": {
      "provenance": [],
      "collapsed_sections": [],
      "include_colab_link": true
    },
    "kernelspec": {
      "name": "python3",
      "display_name": "Python 3"
    },
    "language_info": {
      "name": "python"
    },
    "accelerator": "GPU"
  },
  "cells": [
    {
      "cell_type": "markdown",
      "metadata": {
        "id": "view-in-github",
        "colab_type": "text"
      },
      "source": [
        "<a href=\"https://colab.research.google.com/github/danilogb/TAAC/blob/master/TAAC_assignment_02.ipynb\" target=\"_parent\"><img src=\"https://colab.research.google.com/assets/colab-badge.svg\" alt=\"Open In Colab\"/></a>"
      ]
    },
    {
      "cell_type": "markdown",
      "source": [
        "<img src=\"https://sigarra.up.pt/feup/pt/WEB_GESSI_DOCS.download_file?p_name=F-370784536/logo_cores_oficiais.jpg\" width=\"200\" align=\"right\"></img>\n",
        "\n",
        "### **FEUP MECD 2022/2023**\n",
        "### **TAAC - Advanced Topics on Machine Learning**\n",
        "\n",
        "##<center><b> Assignment 2 </b></center>\n",
        "\n",
        "Group: Danilo Brandão, Heitor Lira & Wagner Ceulin\n",
        "\n",
        "---"
      ],
      "metadata": {
        "id": "bwFBIl6qAFJf"
      }
    },
    {
      "cell_type": "markdown",
      "source": [
        "##1. Recurrent Neural Networks"
      ],
      "metadata": {
        "id": "z11_c-Z7VqrP"
      }
    },
    {
      "cell_type": "markdown",
      "source": [
        "<font color=\"#a1bf3f\">\n",
        "\n",
        "a) In non-recurrent neural networks (MLPs, CNNs, etc.) it is a common practice to use activation functions with unbounded output (ReLU, leaky-ReLU, GELU, etc.). However, in RNN cells, the sigmoid or hyperbolic tangent are used instead. Can you explain why?</font>\n",
        "\n",
        "\n",
        "As the feedback loops in the RNN have the same weight for all the layers, in other words, the parameter well always be multiplied by the same weight as going through the network, it would be a major problem for the learning if some values in the vector flowing in the RNN become too big. Because of this, using squashing activation fuctions is the more appropriate, as the values will always be in the [-1,1] interval\n",
        "\n"
      ],
      "metadata": {
        "id": "KORUI-P5G77G"
      }
    },
    {
      "cell_type": "markdown",
      "source": [
        "<font color=\"#a1bf3f\">b) Suppose you have a sequence classification problem, i.e. you want to classify sequences into one of C given classes. Describe the recurrent architecture you would implement for this problem.</font>\n",
        "\n",
        "We have a multiclass classification problem if C>=3\n"
      ],
      "metadata": {
        "id": "L0yNF73gI6r-"
      }
    },
    {
      "cell_type": "markdown",
      "source": [
        "---\n",
        "##2. Natural Language Processing"
      ],
      "metadata": {
        "id": "9owCihIwOQhd"
      }
    },
    {
      "cell_type": "markdown",
      "source": [
        "<font color=\"#a1bf3f\">a) Explain the advantages of using sub-word tokenization (e.g. BPE) vs. char-level tokenization.</font>\n",
        "\n",
        "Tokenization at the character level leads is quite simple and rarily leads to unknown or OOV words. However, because it is limited to the characters in a given language, it leads to a very limited vocabulary. It turns sentences into very long sequences, since each character of each word becomes a token. They are also not so meaningful when compared to other tokenization methods. \n",
        "\n",
        "On the other hand, using a subword tokenization method such as BPE results in a richer vocabulary. This method is also able to \"learn\" new words that are not explicitly expressed in the corpora. This method also allows the user to define the number of encodings to perform, which means more control over the tokenization process and customization for different processing tasks."
      ],
      "metadata": {
        "id": "nUkxKvvXOWCZ"
      }
    },
    {
      "cell_type": "markdown",
      "source": [
        "<font color=\"#a1bf3f\"> b) Consider the vocabulary V = {′a′,′ b′,′ c′,′ d′} and the document T = “cbabaa”, which is part of a corpus C containing 1000 documents. The number of documents in C that contain ′a′, ′b′, ′c′, and ′d′ is, respectively, 800, 350, 20, and 130. Find the TF-IDF representation of T. (Use the natural logarithm on your computations and present the results with at least three decimal places.)</font>"
      ],
      "metadata": {
        "id": "N_YhXUeARAl8"
      }
    },
    {
      "cell_type": "code",
      "source": [
        "from math import log"
      ],
      "metadata": {
        "id": "QnRPZ9AkQRSk"
      },
      "execution_count": null,
      "outputs": []
    },
    {
      "cell_type": "code",
      "source": [
        "V = {'a':0,'b':0,'c':0,'d':0}\n",
        "T = \"cbabaa\"\n",
        "C = 1000"
      ],
      "metadata": {
        "id": "xCqLVGmkQZ3r"
      },
      "execution_count": null,
      "outputs": []
    },
    {
      "cell_type": "code",
      "source": [
        "for term in T:\n",
        "  V[term] += 1  # counting how many times each term appears in doc T\n",
        "\n",
        "tf = dict([(k,v/len(T)) for k,v in V.items()])\n",
        "tf  # term frequency dictionary"
      ],
      "metadata": {
        "colab": {
          "base_uri": "https://localhost:8080/"
        },
        "id": "-UtDx2-nRe7y",
        "outputId": "9a5aa717-94bd-4303-a996-7ee4139464bf"
      },
      "execution_count": null,
      "outputs": [
        {
          "output_type": "execute_result",
          "data": {
            "text/plain": [
              "{'a': 0.5, 'b': 0.3333333333333333, 'c': 0.16666666666666666, 'd': 0.0}"
            ]
          },
          "metadata": {},
          "execution_count": 21
        }
      ]
    },
    {
      "cell_type": "code",
      "source": [
        "doc_freq = {'a':800,'b':350,'c':20,'d':130}"
      ],
      "metadata": {
        "id": "NfSJCV3lQb5q"
      },
      "execution_count": null,
      "outputs": []
    },
    {
      "cell_type": "code",
      "source": [
        "idf = dict([(k,log(v/C)) for k,v in doc_freq.items()])\n",
        "idf # inverse doc frequency dictionary"
      ],
      "metadata": {
        "colab": {
          "base_uri": "https://localhost:8080/"
        },
        "id": "tkvny9PpQihB",
        "outputId": "360ca3be-db64-454e-c147-4eb9e560582f"
      },
      "execution_count": null,
      "outputs": [
        {
          "output_type": "execute_result",
          "data": {
            "text/plain": [
              "{'a': -0.2231435513142097,\n",
              " 'b': -1.0498221244986778,\n",
              " 'c': -3.912023005428146,\n",
              " 'd': -2.0402208285265546}"
            ]
          },
          "metadata": {},
          "execution_count": 23
        }
      ]
    },
    {
      "cell_type": "code",
      "source": [
        "print(f'tf-idf representation for document T:\\n')\n",
        "for term in V:\n",
        "  print(f'tf-idf({term}, T) = {tf[term] * idf[term]:.3f}')"
      ],
      "metadata": {
        "colab": {
          "base_uri": "https://localhost:8080/"
        },
        "id": "NtXZanXFTssG",
        "outputId": "84f8d1de-40d7-47d4-831c-df02475589c2"
      },
      "execution_count": null,
      "outputs": [
        {
          "output_type": "stream",
          "name": "stdout",
          "text": [
            "tf-idf representation for document T:\n",
            "\n",
            "tf-idf(a, T) = -0.112\n",
            "tf-idf(b, T) = -0.350\n",
            "tf-idf(c, T) = -0.652\n",
            "tf-idf(d, T) = -0.000\n"
          ]
        }
      ]
    },
    {
      "cell_type": "markdown",
      "source": [
        "---\n",
        "##3. Hands-on: Sentiment Analysis"
      ],
      "metadata": {
        "id": "m81iaZKyWphM"
      }
    },
    {
      "cell_type": "markdown",
      "source": [
        "<font color=\"#a1bf3f\"> Now, you will use the IMDB reviews dataset for sentiment analysis, which you can find attached to this assignment. This dataset comprises 50k movie reviews labeled as either positive or negative.\n",
        "Your task is to design and train an LSTM-based (or GRU-based) model to classify each review as positive or negative. In addition to developing the code, you should also:\n",
        "a) Mention the type of tokenization you have chosen.\n",
        "b) Explain how you have dealt with variable-length sequences for mini-batching.\n",
        "c) Describe the architecture of your model, explaining the role of each layer in the model. d) Report the accuracy of your model in the test set.</font>"
      ],
      "metadata": {
        "id": "6xslkw08htIC"
      }
    },
    {
      "cell_type": "code",
      "source": [
        "!pip install tokenizers"
      ],
      "metadata": {
        "colab": {
          "base_uri": "https://localhost:8080/"
        },
        "id": "w6oca8KdxMs5",
        "outputId": "374e89b3-8fd0-4b8b-9997-e14874be50f8"
      },
      "execution_count": null,
      "outputs": [
        {
          "output_type": "stream",
          "name": "stdout",
          "text": [
            "Looking in indexes: https://pypi.org/simple, https://us-python.pkg.dev/colab-wheels/public/simple/\n",
            "Requirement already satisfied: tokenizers in /usr/local/lib/python3.7/dist-packages (0.13.1)\n"
          ]
        }
      ]
    },
    {
      "cell_type": "code",
      "source": [
        "import pandas as pd"
      ],
      "metadata": {
        "id": "dwtsgeHIU_gr"
      },
      "execution_count": null,
      "outputs": []
    },
    {
      "cell_type": "code",
      "source": [
        "from google.colab import drive\n",
        "drive.mount('/content/drive')"
      ],
      "metadata": {
        "id": "Fzcd-3L5N2OE",
        "colab": {
          "base_uri": "https://localhost:8080/"
        },
        "outputId": "85108ccd-6f63-4aa8-9897-8ffd3d5158ed"
      },
      "execution_count": null,
      "outputs": [
        {
          "output_type": "stream",
          "name": "stdout",
          "text": [
            "Drive already mounted at /content/drive; to attempt to forcibly remount, call drive.mount(\"/content/drive\", force_remount=True).\n"
          ]
        }
      ]
    },
    {
      "cell_type": "code",
      "source": [
        "# from google.colab import files\n",
        "# uploaded = files.upload()"
      ],
      "metadata": {
        "id": "uipdFgsbNMW_"
      },
      "execution_count": null,
      "outputs": []
    },
    {
      "cell_type": "code",
      "source": [
        "file_path = '/content/drive/MyDrive/TAAC/Assignment2/imdb_train.csv'  # Gdrive Danilo\n",
        "df = pd.read_csv(file_path)\n",
        "df.head()"
      ],
      "metadata": {
        "colab": {
          "base_uri": "https://localhost:8080/",
          "height": 206
        },
        "id": "LTeTOSpYm-1c",
        "outputId": "03799278-b51a-421b-980f-736607f350c8"
      },
      "execution_count": null,
      "outputs": [
        {
          "output_type": "execute_result",
          "data": {
            "text/plain": [
              "                                              review sentiment\n",
              "0  One of the other reviewers has mentioned that ...  positive\n",
              "1  A wonderful little production. <br /><br />The...  positive\n",
              "2  I thought this was a wonderful way to spend ti...  positive\n",
              "3  Basically there's a family where a little boy ...  negative\n",
              "4  Petter Mattei's \"Love in the Time of Money\" is...  positive"
            ],
            "text/html": [
              "\n",
              "  <div id=\"df-36fc35ae-e002-4c78-864d-3129740cc40b\">\n",
              "    <div class=\"colab-df-container\">\n",
              "      <div>\n",
              "<style scoped>\n",
              "    .dataframe tbody tr th:only-of-type {\n",
              "        vertical-align: middle;\n",
              "    }\n",
              "\n",
              "    .dataframe tbody tr th {\n",
              "        vertical-align: top;\n",
              "    }\n",
              "\n",
              "    .dataframe thead th {\n",
              "        text-align: right;\n",
              "    }\n",
              "</style>\n",
              "<table border=\"1\" class=\"dataframe\">\n",
              "  <thead>\n",
              "    <tr style=\"text-align: right;\">\n",
              "      <th></th>\n",
              "      <th>review</th>\n",
              "      <th>sentiment</th>\n",
              "    </tr>\n",
              "  </thead>\n",
              "  <tbody>\n",
              "    <tr>\n",
              "      <th>0</th>\n",
              "      <td>One of the other reviewers has mentioned that ...</td>\n",
              "      <td>positive</td>\n",
              "    </tr>\n",
              "    <tr>\n",
              "      <th>1</th>\n",
              "      <td>A wonderful little production. &lt;br /&gt;&lt;br /&gt;The...</td>\n",
              "      <td>positive</td>\n",
              "    </tr>\n",
              "    <tr>\n",
              "      <th>2</th>\n",
              "      <td>I thought this was a wonderful way to spend ti...</td>\n",
              "      <td>positive</td>\n",
              "    </tr>\n",
              "    <tr>\n",
              "      <th>3</th>\n",
              "      <td>Basically there's a family where a little boy ...</td>\n",
              "      <td>negative</td>\n",
              "    </tr>\n",
              "    <tr>\n",
              "      <th>4</th>\n",
              "      <td>Petter Mattei's \"Love in the Time of Money\" is...</td>\n",
              "      <td>positive</td>\n",
              "    </tr>\n",
              "  </tbody>\n",
              "</table>\n",
              "</div>\n",
              "      <button class=\"colab-df-convert\" onclick=\"convertToInteractive('df-36fc35ae-e002-4c78-864d-3129740cc40b')\"\n",
              "              title=\"Convert this dataframe to an interactive table.\"\n",
              "              style=\"display:none;\">\n",
              "        \n",
              "  <svg xmlns=\"http://www.w3.org/2000/svg\" height=\"24px\"viewBox=\"0 0 24 24\"\n",
              "       width=\"24px\">\n",
              "    <path d=\"M0 0h24v24H0V0z\" fill=\"none\"/>\n",
              "    <path d=\"M18.56 5.44l.94 2.06.94-2.06 2.06-.94-2.06-.94-.94-2.06-.94 2.06-2.06.94zm-11 1L8.5 8.5l.94-2.06 2.06-.94-2.06-.94L8.5 2.5l-.94 2.06-2.06.94zm10 10l.94 2.06.94-2.06 2.06-.94-2.06-.94-.94-2.06-.94 2.06-2.06.94z\"/><path d=\"M17.41 7.96l-1.37-1.37c-.4-.4-.92-.59-1.43-.59-.52 0-1.04.2-1.43.59L10.3 9.45l-7.72 7.72c-.78.78-.78 2.05 0 2.83L4 21.41c.39.39.9.59 1.41.59.51 0 1.02-.2 1.41-.59l7.78-7.78 2.81-2.81c.8-.78.8-2.07 0-2.86zM5.41 20L4 18.59l7.72-7.72 1.47 1.35L5.41 20z\"/>\n",
              "  </svg>\n",
              "      </button>\n",
              "      \n",
              "  <style>\n",
              "    .colab-df-container {\n",
              "      display:flex;\n",
              "      flex-wrap:wrap;\n",
              "      gap: 12px;\n",
              "    }\n",
              "\n",
              "    .colab-df-convert {\n",
              "      background-color: #E8F0FE;\n",
              "      border: none;\n",
              "      border-radius: 50%;\n",
              "      cursor: pointer;\n",
              "      display: none;\n",
              "      fill: #1967D2;\n",
              "      height: 32px;\n",
              "      padding: 0 0 0 0;\n",
              "      width: 32px;\n",
              "    }\n",
              "\n",
              "    .colab-df-convert:hover {\n",
              "      background-color: #E2EBFA;\n",
              "      box-shadow: 0px 1px 2px rgba(60, 64, 67, 0.3), 0px 1px 3px 1px rgba(60, 64, 67, 0.15);\n",
              "      fill: #174EA6;\n",
              "    }\n",
              "\n",
              "    [theme=dark] .colab-df-convert {\n",
              "      background-color: #3B4455;\n",
              "      fill: #D2E3FC;\n",
              "    }\n",
              "\n",
              "    [theme=dark] .colab-df-convert:hover {\n",
              "      background-color: #434B5C;\n",
              "      box-shadow: 0px 1px 3px 1px rgba(0, 0, 0, 0.15);\n",
              "      filter: drop-shadow(0px 1px 2px rgba(0, 0, 0, 0.3));\n",
              "      fill: #FFFFFF;\n",
              "    }\n",
              "  </style>\n",
              "\n",
              "      <script>\n",
              "        const buttonEl =\n",
              "          document.querySelector('#df-36fc35ae-e002-4c78-864d-3129740cc40b button.colab-df-convert');\n",
              "        buttonEl.style.display =\n",
              "          google.colab.kernel.accessAllowed ? 'block' : 'none';\n",
              "\n",
              "        async function convertToInteractive(key) {\n",
              "          const element = document.querySelector('#df-36fc35ae-e002-4c78-864d-3129740cc40b');\n",
              "          const dataTable =\n",
              "            await google.colab.kernel.invokeFunction('convertToInteractive',\n",
              "                                                     [key], {});\n",
              "          if (!dataTable) return;\n",
              "\n",
              "          const docLinkHtml = 'Like what you see? Visit the ' +\n",
              "            '<a target=\"_blank\" href=https://colab.research.google.com/notebooks/data_table.ipynb>data table notebook</a>'\n",
              "            + ' to learn more about interactive tables.';\n",
              "          element.innerHTML = '';\n",
              "          dataTable['output_type'] = 'display_data';\n",
              "          await google.colab.output.renderOutput(dataTable, element);\n",
              "          const docLink = document.createElement('div');\n",
              "          docLink.innerHTML = docLinkHtml;\n",
              "          element.appendChild(docLink);\n",
              "        }\n",
              "      </script>\n",
              "    </div>\n",
              "  </div>\n",
              "  "
            ]
          },
          "metadata": {},
          "execution_count": 5
        }
      ]
    },
    {
      "cell_type": "code",
      "source": [
        "# change sentiment to binary\n",
        "df['sentiment'].loc[df['sentiment'] == 'positive'] = 1\n",
        "df['sentiment'].loc[df['sentiment'] == 'negative'] = 0\n",
        "df.head()"
      ],
      "metadata": {
        "colab": {
          "base_uri": "https://localhost:8080/",
          "height": 206
        },
        "id": "Z93DufQHnw8D",
        "outputId": "abd07e3f-5dcc-4477-f9d1-6f2d9e2e15a2"
      },
      "execution_count": null,
      "outputs": [
        {
          "output_type": "execute_result",
          "data": {
            "text/plain": [
              "                                              review sentiment\n",
              "0  One of the other reviewers has mentioned that ...         1\n",
              "1  A wonderful little production. <br /><br />The...         1\n",
              "2  I thought this was a wonderful way to spend ti...         1\n",
              "3  Basically there's a family where a little boy ...         0\n",
              "4  Petter Mattei's \"Love in the Time of Money\" is...         1"
            ],
            "text/html": [
              "\n",
              "  <div id=\"df-0a923dfa-5117-464e-8705-4cdf8741fb1b\">\n",
              "    <div class=\"colab-df-container\">\n",
              "      <div>\n",
              "<style scoped>\n",
              "    .dataframe tbody tr th:only-of-type {\n",
              "        vertical-align: middle;\n",
              "    }\n",
              "\n",
              "    .dataframe tbody tr th {\n",
              "        vertical-align: top;\n",
              "    }\n",
              "\n",
              "    .dataframe thead th {\n",
              "        text-align: right;\n",
              "    }\n",
              "</style>\n",
              "<table border=\"1\" class=\"dataframe\">\n",
              "  <thead>\n",
              "    <tr style=\"text-align: right;\">\n",
              "      <th></th>\n",
              "      <th>review</th>\n",
              "      <th>sentiment</th>\n",
              "    </tr>\n",
              "  </thead>\n",
              "  <tbody>\n",
              "    <tr>\n",
              "      <th>0</th>\n",
              "      <td>One of the other reviewers has mentioned that ...</td>\n",
              "      <td>1</td>\n",
              "    </tr>\n",
              "    <tr>\n",
              "      <th>1</th>\n",
              "      <td>A wonderful little production. &lt;br /&gt;&lt;br /&gt;The...</td>\n",
              "      <td>1</td>\n",
              "    </tr>\n",
              "    <tr>\n",
              "      <th>2</th>\n",
              "      <td>I thought this was a wonderful way to spend ti...</td>\n",
              "      <td>1</td>\n",
              "    </tr>\n",
              "    <tr>\n",
              "      <th>3</th>\n",
              "      <td>Basically there's a family where a little boy ...</td>\n",
              "      <td>0</td>\n",
              "    </tr>\n",
              "    <tr>\n",
              "      <th>4</th>\n",
              "      <td>Petter Mattei's \"Love in the Time of Money\" is...</td>\n",
              "      <td>1</td>\n",
              "    </tr>\n",
              "  </tbody>\n",
              "</table>\n",
              "</div>\n",
              "      <button class=\"colab-df-convert\" onclick=\"convertToInteractive('df-0a923dfa-5117-464e-8705-4cdf8741fb1b')\"\n",
              "              title=\"Convert this dataframe to an interactive table.\"\n",
              "              style=\"display:none;\">\n",
              "        \n",
              "  <svg xmlns=\"http://www.w3.org/2000/svg\" height=\"24px\"viewBox=\"0 0 24 24\"\n",
              "       width=\"24px\">\n",
              "    <path d=\"M0 0h24v24H0V0z\" fill=\"none\"/>\n",
              "    <path d=\"M18.56 5.44l.94 2.06.94-2.06 2.06-.94-2.06-.94-.94-2.06-.94 2.06-2.06.94zm-11 1L8.5 8.5l.94-2.06 2.06-.94-2.06-.94L8.5 2.5l-.94 2.06-2.06.94zm10 10l.94 2.06.94-2.06 2.06-.94-2.06-.94-.94-2.06-.94 2.06-2.06.94z\"/><path d=\"M17.41 7.96l-1.37-1.37c-.4-.4-.92-.59-1.43-.59-.52 0-1.04.2-1.43.59L10.3 9.45l-7.72 7.72c-.78.78-.78 2.05 0 2.83L4 21.41c.39.39.9.59 1.41.59.51 0 1.02-.2 1.41-.59l7.78-7.78 2.81-2.81c.8-.78.8-2.07 0-2.86zM5.41 20L4 18.59l7.72-7.72 1.47 1.35L5.41 20z\"/>\n",
              "  </svg>\n",
              "      </button>\n",
              "      \n",
              "  <style>\n",
              "    .colab-df-container {\n",
              "      display:flex;\n",
              "      flex-wrap:wrap;\n",
              "      gap: 12px;\n",
              "    }\n",
              "\n",
              "    .colab-df-convert {\n",
              "      background-color: #E8F0FE;\n",
              "      border: none;\n",
              "      border-radius: 50%;\n",
              "      cursor: pointer;\n",
              "      display: none;\n",
              "      fill: #1967D2;\n",
              "      height: 32px;\n",
              "      padding: 0 0 0 0;\n",
              "      width: 32px;\n",
              "    }\n",
              "\n",
              "    .colab-df-convert:hover {\n",
              "      background-color: #E2EBFA;\n",
              "      box-shadow: 0px 1px 2px rgba(60, 64, 67, 0.3), 0px 1px 3px 1px rgba(60, 64, 67, 0.15);\n",
              "      fill: #174EA6;\n",
              "    }\n",
              "\n",
              "    [theme=dark] .colab-df-convert {\n",
              "      background-color: #3B4455;\n",
              "      fill: #D2E3FC;\n",
              "    }\n",
              "\n",
              "    [theme=dark] .colab-df-convert:hover {\n",
              "      background-color: #434B5C;\n",
              "      box-shadow: 0px 1px 3px 1px rgba(0, 0, 0, 0.15);\n",
              "      filter: drop-shadow(0px 1px 2px rgba(0, 0, 0, 0.3));\n",
              "      fill: #FFFFFF;\n",
              "    }\n",
              "  </style>\n",
              "\n",
              "      <script>\n",
              "        const buttonEl =\n",
              "          document.querySelector('#df-0a923dfa-5117-464e-8705-4cdf8741fb1b button.colab-df-convert');\n",
              "        buttonEl.style.display =\n",
              "          google.colab.kernel.accessAllowed ? 'block' : 'none';\n",
              "\n",
              "        async function convertToInteractive(key) {\n",
              "          const element = document.querySelector('#df-0a923dfa-5117-464e-8705-4cdf8741fb1b');\n",
              "          const dataTable =\n",
              "            await google.colab.kernel.invokeFunction('convertToInteractive',\n",
              "                                                     [key], {});\n",
              "          if (!dataTable) return;\n",
              "\n",
              "          const docLinkHtml = 'Like what you see? Visit the ' +\n",
              "            '<a target=\"_blank\" href=https://colab.research.google.com/notebooks/data_table.ipynb>data table notebook</a>'\n",
              "            + ' to learn more about interactive tables.';\n",
              "          element.innerHTML = '';\n",
              "          dataTable['output_type'] = 'display_data';\n",
              "          await google.colab.output.renderOutput(dataTable, element);\n",
              "          const docLink = document.createElement('div');\n",
              "          docLink.innerHTML = docLinkHtml;\n",
              "          element.appendChild(docLink);\n",
              "        }\n",
              "      </script>\n",
              "    </div>\n",
              "  </div>\n",
              "  "
            ]
          },
          "metadata": {},
          "execution_count": 6
        }
      ]
    },
    {
      "cell_type": "code",
      "source": [
        "# Save reviews in txt format to train tokenizer later\n",
        "filename = '/content/drive/MyDrive/TAAC/Assignment2/imdb_train.txt'\n",
        "with open(filename, 'a') as f:\n",
        "    reviews_txt = df['review'].to_string(header=False, index=False)\n",
        "    f.write(reviews_txt)"
      ],
      "metadata": {
        "id": "HmL5MUgosvCd"
      },
      "execution_count": null,
      "outputs": []
    },
    {
      "cell_type": "code",
      "source": [
        "from keras.layers.core import Activation, Dense, Dropout, SpatialDropout1D\n",
        "from keras.layers import Embedding\n",
        "from keras.layers import LSTM\n",
        "from keras.models import Sequential\n",
        "from keras.utils.data_utils import pad_sequences\n",
        "from sklearn.model_selection import train_test_split\n",
        "import tensorflow as tf\n",
        "import collections\n",
        "import matplotlib.pyplot as plt\n",
        "import nltk\n",
        "import numpy as np\n",
        "import os\n",
        "\n",
        "from tokenizers import Tokenizer, models, pre_tokenizers, decoders, trainers, processors"
      ],
      "metadata": {
        "id": "t62UkItMp1-D"
      },
      "execution_count": null,
      "outputs": []
    },
    {
      "cell_type": "markdown",
      "source": [
        "To process the text data from the reviews, a Byte-Pair Encoding tokenizer was chosen due to its capabilities to handle OOV words and for its ability to adapt to the corpus its being trained on. It is also one of the most advance tokenizing methods currently available."
      ],
      "metadata": {
        "id": "qOTyen97gHlL"
      }
    },
    {
      "cell_type": "code",
      "source": [
        "# Initialize a tokenizer\n",
        "tokenizer = Tokenizer(models.BPE(unk_token=\"[UNK]\"))\n",
        "\n",
        "# Customize pre-tokenization and decoding\n",
        "tokenizer.pre_tokenizer = pre_tokenizers.ByteLevel(add_prefix_space=True)\n",
        "tokenizer.decoder = decoders.ByteLevel()\n",
        "tokenizer.post_processor = processors.ByteLevel(trim_offsets=True)\n",
        "\n",
        "# And then train\n",
        "trainer = trainers.BpeTrainer(\n",
        "    vocab_size=20000,\n",
        "    min_frequency=2,\n",
        "    initial_alphabet=pre_tokenizers.ByteLevel.alphabet())\n",
        "\n",
        "tokenizer.train([filename], trainer=trainer)\n",
        "\n",
        "# And Save it\n",
        "tokenizer.save(\"byte-level-bpe.tokenizer.json\", pretty=True)"
      ],
      "metadata": {
        "id": "kBL0ipsZ6t8_"
      },
      "execution_count": null,
      "outputs": []
    },
    {
      "cell_type": "code",
      "source": [
        "# Load trained tokenizer\n",
        "tokenizer = Tokenizer.from_file(\"byte-level-bpe.tokenizer.json\")"
      ],
      "metadata": {
        "id": "uTlfbW2f7Mt1"
      },
      "execution_count": null,
      "outputs": []
    },
    {
      "cell_type": "code",
      "source": [
        "# Adding token data into the dataframe\n",
        "df['encodings'] = df['review'].apply(lambda x:tokenizer.encode(x))\n",
        "df['tokens'] = [encoding.tokens for encoding in df['encodings']]\n",
        "df['token_ids'] = [encoding.ids for encoding in df['encodings']]"
      ],
      "metadata": {
        "id": "kBQIBAMc4h61"
      },
      "execution_count": null,
      "outputs": []
    },
    {
      "cell_type": "code",
      "source": [
        "# Find the longest sequence of tokens\n",
        "maxlen = max(len(sequence) for sequence in df['token_ids'])\n",
        "maxlen"
      ],
      "metadata": {
        "colab": {
          "base_uri": "https://localhost:8080/"
        },
        "id": "oqJD3wHt5NpE",
        "outputId": "28c87f40-656a-43a8-8f1e-ef8366952b51"
      },
      "execution_count": null,
      "outputs": [
        {
          "output_type": "execute_result",
          "data": {
            "text/plain": [
              "3536"
            ]
          },
          "metadata": {},
          "execution_count": 11
        }
      ]
    },
    {
      "cell_type": "code",
      "source": [
        "# Find the number of unique tokens\n",
        "token_freqs = collections.Counter()\n",
        "for sequence in df['token_ids']:\n",
        "  for token_id in sequence:\n",
        "    token_freqs[token_id] += 1\n",
        "print(f\"Vocabulary size:\", len(token_freqs))"
      ],
      "metadata": {
        "colab": {
          "base_uri": "https://localhost:8080/"
        },
        "id": "PTAgKurU8360",
        "outputId": "9af42a20-b0e7-4719-bc3b-582a50f8d430"
      },
      "execution_count": null,
      "outputs": [
        {
          "output_type": "stream",
          "name": "stdout",
          "text": [
            "Vocabulary size: 19252\n"
          ]
        }
      ]
    },
    {
      "cell_type": "code",
      "source": [
        "# HYPERPARAMETERS\n",
        "MAX_FEATURES = 2000\n",
        "MAX_SENTENCE_LENGTH = 90\n",
        "EMBEDDING_SIZE = 128\n",
        "HIDDEN_LAYER_SIZE = 64\n",
        "BATCH_SIZE = 32\n",
        "NUM_EPOCHS = 10"
      ],
      "metadata": {
        "id": "qYTuU_JGGC1j"
      },
      "execution_count": null,
      "outputs": []
    },
    {
      "cell_type": "markdown",
      "source": [
        "Since the sequences have variable lengths, a padding was added to ensure all the arrays had the same dimensions."
      ],
      "metadata": {
        "id": "V0rOzGlYg-PH"
      }
    },
    {
      "cell_type": "code",
      "source": [
        "train_padded = pad_sequences(df['token_ids'], \n",
        "                             padding='post', # add paddings at the end\n",
        "                             maxlen=MAX_SENTENCE_LENGTH)"
      ],
      "metadata": {
        "id": "fdCWRIjNxhm6"
      },
      "execution_count": null,
      "outputs": []
    },
    {
      "cell_type": "code",
      "source": [
        "# Transform pd.Series into array to match train_padded type\n",
        "train_sent = np.asarray(df['sentiment']).astype('float32').reshape((-1,1))"
      ],
      "metadata": {
        "id": "5sc_z5qD0iDz"
      },
      "execution_count": null,
      "outputs": []
    },
    {
      "cell_type": "code",
      "source": [
        "# Defining the model\n",
        "model = Sequential()\n",
        "model.add(Embedding(MAX_FEATURES, EMBEDDING_SIZE, input_length=MAX_SENTENCE_LENGTH))\n",
        "model.add(SpatialDropout1D(0.4))\n",
        "model.add(LSTM(HIDDEN_LAYER_SIZE, dropout=0.2, recurrent_dropout=0.2))\n",
        "model.add(Dense(1, activation='sigmoid'))\n",
        "\n",
        "model.compile(loss='binary_crossentropy', \n",
        "              optimizer='adam', \n",
        "              metrics=['accuracy'])\n",
        "\n",
        "print(model.summary())"
      ],
      "metadata": {
        "colab": {
          "base_uri": "https://localhost:8080/"
        },
        "id": "9XvaNUC4JvcY",
        "outputId": "02262b0c-0857-496e-a362-6828859f00de"
      },
      "execution_count": null,
      "outputs": [
        {
          "output_type": "stream",
          "name": "stderr",
          "text": [
            "WARNING:tensorflow:Layer lstm_5 will not use cuDNN kernels since it doesn't meet the criteria. It will use a generic GPU kernel as fallback when running on GPU.\n"
          ]
        },
        {
          "output_type": "stream",
          "name": "stdout",
          "text": [
            "Model: \"sequential_5\"\n",
            "_________________________________________________________________\n",
            " Layer (type)                Output Shape              Param #   \n",
            "=================================================================\n",
            " embedding_5 (Embedding)     (None, 90, 128)           256000    \n",
            "                                                                 \n",
            " spatial_dropout1d_5 (Spatia  (None, 90, 128)          0         \n",
            " lDropout1D)                                                     \n",
            "                                                                 \n",
            " lstm_5 (LSTM)               (None, 64)                49408     \n",
            "                                                                 \n",
            " dense_5 (Dense)             (None, 1)                 65        \n",
            "                                                                 \n",
            "=================================================================\n",
            "Total params: 305,473\n",
            "Trainable params: 305,473\n",
            "Non-trainable params: 0\n",
            "_________________________________________________________________\n",
            "None\n"
          ]
        }
      ]
    },
    {
      "cell_type": "markdown",
      "source": [
        "#### Explaining the model\n",
        "First, a batch of ids (tokens) is fed into an embedding layer so the information can be densely represented. The weights are initialized randomly and learned during the training process. This layer will reshape the tensor and output it into an LSTM. This LSTM will output a tensor sized according to the specified number of hidden layers, which is then fed into a dense layer. This last layer's output will be activaded by a sigmoid function, resulting in a 0 (negative review) or 1 (positive review) value."
      ],
      "metadata": {
        "id": "7SAhhvqLhey5"
      }
    },
    {
      "cell_type": "code",
      "source": [
        "# Just checking if we are running on GPU\n",
        "tf.test.gpu_device_name()"
      ],
      "metadata": {
        "colab": {
          "base_uri": "https://localhost:8080/",
          "height": 35
        },
        "id": "TZBbqXAtaf4N",
        "outputId": "dd884270-b18b-4bc1-f6f1-4b3582fe6bbd"
      },
      "execution_count": null,
      "outputs": [
        {
          "output_type": "execute_result",
          "data": {
            "text/plain": [
              "'/device:GPU:0'"
            ],
            "application/vnd.google.colaboratory.intrinsic+json": {
              "type": "string"
            }
          },
          "metadata": {},
          "execution_count": 70
        }
      ]
    },
    {
      "cell_type": "code",
      "source": [
        "x_tensor = tf.convert_to_tensor(train_padded, dtype=tf.int64) \n",
        "y_tensor = tf.convert_to_tensor(train_sent, dtype=tf.int64)"
      ],
      "metadata": {
        "id": "2BoaaL087MUo"
      },
      "execution_count": null,
      "outputs": []
    },
    {
      "cell_type": "code",
      "source": [
        "x_tensor.shape, y_tensor.shape"
      ],
      "metadata": {
        "colab": {
          "base_uri": "https://localhost:8080/"
        },
        "id": "aAahfcFt7rgd",
        "outputId": "69078eea-5ec7-4385-a4aa-f1c288b56a17"
      },
      "execution_count": null,
      "outputs": [
        {
          "output_type": "execute_result",
          "data": {
            "text/plain": [
              "(TensorShape([45000, 90]), TensorShape([45000, 1]))"
            ]
          },
          "metadata": {},
          "execution_count": 73
        }
      ]
    },
    {
      "cell_type": "code",
      "source": [
        "# Training the model\n",
        "model.fit(x = x_tensor, \n",
        "          y = y_tensor, \n",
        "          epochs = NUM_EPOCHS, \n",
        "          batch_size = BATCH_SIZE,\n",
        "          verbose = 2)"
      ],
      "metadata": {
        "colab": {
          "base_uri": "https://localhost:8080/"
        },
        "id": "tX00NGg8bTYp",
        "outputId": "370bd63c-d310-42ec-9956-0a2310dad3cd"
      },
      "execution_count": null,
      "outputs": [
        {
          "output_type": "stream",
          "name": "stdout",
          "text": [
            "Epoch 1/10\n",
            "1407/1407 - 481s - loss: 0.5045 - accuracy: 0.7489 - 481s/epoch - 342ms/step\n",
            "Epoch 2/10\n",
            "1407/1407 - 475s - loss: 0.4319 - accuracy: 0.8007 - 475s/epoch - 337ms/step\n",
            "Epoch 3/10\n",
            "1407/1407 - 471s - loss: 0.4024 - accuracy: 0.8145 - 471s/epoch - 335ms/step\n",
            "Epoch 4/10\n",
            "1407/1407 - 468s - loss: 0.3786 - accuracy: 0.8268 - 468s/epoch - 333ms/step\n",
            "Epoch 5/10\n",
            "1407/1407 - 463s - loss: 0.3629 - accuracy: 0.8368 - 463s/epoch - 329ms/step\n",
            "Epoch 6/10\n",
            "1407/1407 - 471s - loss: 0.3512 - accuracy: 0.8424 - 471s/epoch - 335ms/step\n",
            "Epoch 7/10\n",
            "1407/1407 - 462s - loss: 0.3352 - accuracy: 0.8519 - 462s/epoch - 328ms/step\n",
            "Epoch 8/10\n",
            "1407/1407 - 464s - loss: 0.3239 - accuracy: 0.8585 - 464s/epoch - 330ms/step\n",
            "Epoch 9/10\n",
            "1407/1407 - 461s - loss: 0.3154 - accuracy: 0.8620 - 461s/epoch - 328ms/step\n",
            "Epoch 10/10\n",
            "1407/1407 - 459s - loss: 0.3087 - accuracy: 0.8639 - 459s/epoch - 326ms/step\n"
          ]
        },
        {
          "output_type": "execute_result",
          "data": {
            "text/plain": [
              "<keras.callbacks.History at 0x7fdd80d62050>"
            ]
          },
          "metadata": {},
          "execution_count": 74
        }
      ]
    },
    {
      "cell_type": "markdown",
      "source": [
        "#### Testing the model"
      ],
      "metadata": {
        "id": "0VB9bM3iYs27"
      }
    },
    {
      "cell_type": "code",
      "source": [
        "test_file_path = '/content/drive/MyDrive/TAAC/Assignment2/imdb_test.csv'  # Gdrive Danilo\n",
        "df_test = pd.read_csv(test_file_path, header=None)\n",
        "df_test.columns = ['review', 'sentiment']"
      ],
      "metadata": {
        "id": "2C8D5aWT58yR"
      },
      "execution_count": null,
      "outputs": []
    },
    {
      "cell_type": "code",
      "source": [
        "# change sentiment to binary\n",
        "df_test['sentiment'].loc[df_test['sentiment'] == 'positive'] = 1\n",
        "df_test['sentiment'].loc[df_test['sentiment'] == 'negative'] = 0\n",
        "df_test.head()"
      ],
      "metadata": {
        "colab": {
          "base_uri": "https://localhost:8080/",
          "height": 206
        },
        "id": "MzT20Rsy58vh",
        "outputId": "73a43d70-909a-49d7-98e2-f149699603ab"
      },
      "execution_count": null,
      "outputs": [
        {
          "output_type": "execute_result",
          "data": {
            "text/plain": [
              "                                              review sentiment\n",
              "0  I saw the film many times, and every time I am...         0\n",
              "1  I loved KOLCHAK: THE NIGHT STALKER since I saw...         1\n",
              "2  This feels as if it is a Czech version of Pear...         1\n",
              "3  When, oh, when will someone like Anchor Bay or...         1\n",
              "4  \"Just before dawn \" is one of the best slasher...         1"
            ],
            "text/html": [
              "\n",
              "  <div id=\"df-a714a703-8785-4b2c-8370-6c0de6ade83f\">\n",
              "    <div class=\"colab-df-container\">\n",
              "      <div>\n",
              "<style scoped>\n",
              "    .dataframe tbody tr th:only-of-type {\n",
              "        vertical-align: middle;\n",
              "    }\n",
              "\n",
              "    .dataframe tbody tr th {\n",
              "        vertical-align: top;\n",
              "    }\n",
              "\n",
              "    .dataframe thead th {\n",
              "        text-align: right;\n",
              "    }\n",
              "</style>\n",
              "<table border=\"1\" class=\"dataframe\">\n",
              "  <thead>\n",
              "    <tr style=\"text-align: right;\">\n",
              "      <th></th>\n",
              "      <th>review</th>\n",
              "      <th>sentiment</th>\n",
              "    </tr>\n",
              "  </thead>\n",
              "  <tbody>\n",
              "    <tr>\n",
              "      <th>0</th>\n",
              "      <td>I saw the film many times, and every time I am...</td>\n",
              "      <td>0</td>\n",
              "    </tr>\n",
              "    <tr>\n",
              "      <th>1</th>\n",
              "      <td>I loved KOLCHAK: THE NIGHT STALKER since I saw...</td>\n",
              "      <td>1</td>\n",
              "    </tr>\n",
              "    <tr>\n",
              "      <th>2</th>\n",
              "      <td>This feels as if it is a Czech version of Pear...</td>\n",
              "      <td>1</td>\n",
              "    </tr>\n",
              "    <tr>\n",
              "      <th>3</th>\n",
              "      <td>When, oh, when will someone like Anchor Bay or...</td>\n",
              "      <td>1</td>\n",
              "    </tr>\n",
              "    <tr>\n",
              "      <th>4</th>\n",
              "      <td>\"Just before dawn \" is one of the best slasher...</td>\n",
              "      <td>1</td>\n",
              "    </tr>\n",
              "  </tbody>\n",
              "</table>\n",
              "</div>\n",
              "      <button class=\"colab-df-convert\" onclick=\"convertToInteractive('df-a714a703-8785-4b2c-8370-6c0de6ade83f')\"\n",
              "              title=\"Convert this dataframe to an interactive table.\"\n",
              "              style=\"display:none;\">\n",
              "        \n",
              "  <svg xmlns=\"http://www.w3.org/2000/svg\" height=\"24px\"viewBox=\"0 0 24 24\"\n",
              "       width=\"24px\">\n",
              "    <path d=\"M0 0h24v24H0V0z\" fill=\"none\"/>\n",
              "    <path d=\"M18.56 5.44l.94 2.06.94-2.06 2.06-.94-2.06-.94-.94-2.06-.94 2.06-2.06.94zm-11 1L8.5 8.5l.94-2.06 2.06-.94-2.06-.94L8.5 2.5l-.94 2.06-2.06.94zm10 10l.94 2.06.94-2.06 2.06-.94-2.06-.94-.94-2.06-.94 2.06-2.06.94z\"/><path d=\"M17.41 7.96l-1.37-1.37c-.4-.4-.92-.59-1.43-.59-.52 0-1.04.2-1.43.59L10.3 9.45l-7.72 7.72c-.78.78-.78 2.05 0 2.83L4 21.41c.39.39.9.59 1.41.59.51 0 1.02-.2 1.41-.59l7.78-7.78 2.81-2.81c.8-.78.8-2.07 0-2.86zM5.41 20L4 18.59l7.72-7.72 1.47 1.35L5.41 20z\"/>\n",
              "  </svg>\n",
              "      </button>\n",
              "      \n",
              "  <style>\n",
              "    .colab-df-container {\n",
              "      display:flex;\n",
              "      flex-wrap:wrap;\n",
              "      gap: 12px;\n",
              "    }\n",
              "\n",
              "    .colab-df-convert {\n",
              "      background-color: #E8F0FE;\n",
              "      border: none;\n",
              "      border-radius: 50%;\n",
              "      cursor: pointer;\n",
              "      display: none;\n",
              "      fill: #1967D2;\n",
              "      height: 32px;\n",
              "      padding: 0 0 0 0;\n",
              "      width: 32px;\n",
              "    }\n",
              "\n",
              "    .colab-df-convert:hover {\n",
              "      background-color: #E2EBFA;\n",
              "      box-shadow: 0px 1px 2px rgba(60, 64, 67, 0.3), 0px 1px 3px 1px rgba(60, 64, 67, 0.15);\n",
              "      fill: #174EA6;\n",
              "    }\n",
              "\n",
              "    [theme=dark] .colab-df-convert {\n",
              "      background-color: #3B4455;\n",
              "      fill: #D2E3FC;\n",
              "    }\n",
              "\n",
              "    [theme=dark] .colab-df-convert:hover {\n",
              "      background-color: #434B5C;\n",
              "      box-shadow: 0px 1px 3px 1px rgba(0, 0, 0, 0.15);\n",
              "      filter: drop-shadow(0px 1px 2px rgba(0, 0, 0, 0.3));\n",
              "      fill: #FFFFFF;\n",
              "    }\n",
              "  </style>\n",
              "\n",
              "      <script>\n",
              "        const buttonEl =\n",
              "          document.querySelector('#df-a714a703-8785-4b2c-8370-6c0de6ade83f button.colab-df-convert');\n",
              "        buttonEl.style.display =\n",
              "          google.colab.kernel.accessAllowed ? 'block' : 'none';\n",
              "\n",
              "        async function convertToInteractive(key) {\n",
              "          const element = document.querySelector('#df-a714a703-8785-4b2c-8370-6c0de6ade83f');\n",
              "          const dataTable =\n",
              "            await google.colab.kernel.invokeFunction('convertToInteractive',\n",
              "                                                     [key], {});\n",
              "          if (!dataTable) return;\n",
              "\n",
              "          const docLinkHtml = 'Like what you see? Visit the ' +\n",
              "            '<a target=\"_blank\" href=https://colab.research.google.com/notebooks/data_table.ipynb>data table notebook</a>'\n",
              "            + ' to learn more about interactive tables.';\n",
              "          element.innerHTML = '';\n",
              "          dataTable['output_type'] = 'display_data';\n",
              "          await google.colab.output.renderOutput(dataTable, element);\n",
              "          const docLink = document.createElement('div');\n",
              "          docLink.innerHTML = docLinkHtml;\n",
              "          element.appendChild(docLink);\n",
              "        }\n",
              "      </script>\n",
              "    </div>\n",
              "  </div>\n",
              "  "
            ]
          },
          "metadata": {},
          "execution_count": 86
        }
      ]
    },
    {
      "cell_type": "code",
      "source": [
        "df_test['encodings'] = df_test['review'].map(lambda x: tokenizer.encode(x))\n",
        "df_test['token_ids'] = df_test['encodings'].map(lambda x: x.ids)"
      ],
      "metadata": {
        "id": "2c1LPNfI58lI"
      },
      "execution_count": null,
      "outputs": []
    },
    {
      "cell_type": "code",
      "source": [
        "test_padded = pad_sequences(df_test['token_ids'], \n",
        "                            padding='post', \n",
        "                            maxlen=MAX_SENTENCE_LENGTH)\n",
        "test_sent = np.asarray(df_test['sentiment']).astype('float32').reshape((-1,1))"
      ],
      "metadata": {
        "id": "F6Rsm27v58WT"
      },
      "execution_count": null,
      "outputs": []
    },
    {
      "cell_type": "code",
      "source": [
        "x_test_tensor = tf.convert_to_tensor(test_padded, dtype=tf.int64) \n",
        "y_test_tensor = tf.convert_to_tensor(test_sent, dtype=tf.int64)"
      ],
      "metadata": {
        "id": "Rj79heoTaTnm"
      },
      "execution_count": null,
      "outputs": []
    },
    {
      "cell_type": "code",
      "source": [
        "score, acc = model.evaluate(x_test_tensor, y_test_tensor, batch_size=BATCH_SIZE)\n",
        "print(f'Test score:{score:.3f}, accuracy:{acc:.3f}')"
      ],
      "metadata": {
        "colab": {
          "base_uri": "https://localhost:8080/"
        },
        "id": "t4Te1jXKaask",
        "outputId": "c46da149-4954-48d9-9083-508ba6f5a654"
      },
      "execution_count": null,
      "outputs": [
        {
          "output_type": "stream",
          "name": "stdout",
          "text": [
            "157/157 [==============================] - 5s 27ms/step - loss: 0.4137 - accuracy: 0.8148\n",
            "Test score:0.414, accuracy:0.815\n"
          ]
        }
      ]
    },
    {
      "cell_type": "code",
      "source": [
        "# Checking some predictions made by the model\n",
        "for i in range(5):\n",
        "  idx = np.random.randint(len(test_padded))\n",
        "  xtest = test_padded[idx].reshape(1, MAX_SENTENCE_LENGTH)\n",
        "  ylabel = test_sent[idx]\n",
        "  ypred = model.predict(xtest)[0][0]\n",
        "  sentence = tokenizer.decode(xtest[0])\n",
        "  print(f\"Predicted:{ypred} - Label:{ylabel}\\n Sentence:{sentence}\")\n"
      ],
      "metadata": {
        "colab": {
          "base_uri": "https://localhost:8080/"
        },
        "id": "D2E9FWEIbjB_",
        "outputId": "38627ef0-fa6b-4790-d470-77da8379a7f9"
      },
      "execution_count": null,
      "outputs": [
        {
          "output_type": "stream",
          "name": "stdout",
          "text": [
            "1/1 [==============================] - 0s 40ms/step\n",
            "Predicted:0.0028468973468989134 - Label:[0.]\n",
            " Sentence: him alive to allow the rats to feast on him followed by a rat aiming for the guy's FACE! What's with all that stupidity? Then there are quite a few continuity goofs, but you can find those elsewhere here on IMDb Honestly I found it a bit of an insult even to my limited intelligence.<br /><br />Waste of time. Still 4 out of 10 to keep my girlfriend from kicking me.\n",
            "1/1 [==============================] - 0s 40ms/step\n",
            "Predicted:0.013875192031264305 - Label:[1.]\n",
            " Sentence: beginning the plot was about as predictable as the destination of the flight I was on. I think the whole gay-but-not-gay friend part of the story could have been worked a lot better. The talking parrot was a nice idea but to be honest: it wasn't really very funny.<br /><br />In summary the film was more interesting than staring at the seat in front of me, but it was a close call.\n",
            "1/1 [==============================] - 0s 36ms/step\n",
            "Predicted:0.9765529036521912 - Label:[1.]\n",
            " Sentence: less well received films-think Town and Country). The closing scene of Diane Keaton driving home was well worth waiting for, revealing that anyone who loves another human being has got to learn that we have to live our own lives, we love others but don't own them and ultimately we have to let go. It's a hard lesson but well worth contemplating now and then.Thank you CBS for this broadcast,it was worth the long wait.\n",
            "1/1 [==============================] - 0s 43ms/step\n",
            "Predicted:0.9703778624534607 - Label:[1.]\n",
            " Sentence:, they said \"nothing\"!! I know it was only 3 hours but I was dead tired and wanted to go home to see my wife and kids.<br /><br />As for the movie, it was very well made. Unlike most movies that involve Arabs and use non-Arab actors who just speak gibberish, this movie the Arabic was 100% correct. I assume the country is Morocco (North Africa).\n",
            "1/1 [==============================] - 0s 40ms/step\n",
            "Predicted:0.9751709699630737 - Label:[1.]\n",
            " Sentence: not among the great fantastic movies of all time is no surprise due to its lacks, it's a bigger surprise, considering the philosophical way it chooses on the confrontation between good and evil, the truth it speaks and the heart it shows, that this movie is so unwlecomed. I suggest it for every fan of the genre and try take it seriously as an intelligent movie that's to be taken more seriously than it seems.\n"
          ]
        }
      ]
    }
  ]
}